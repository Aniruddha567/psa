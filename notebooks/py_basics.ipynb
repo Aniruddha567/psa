{
  "nbformat": 4,
  "nbformat_minor": 0,
  "metadata": {
    "colab": {
      "provenance": []
    },
    "kernelspec": {
      "name": "python3",
      "display_name": "Python 3"
    },
    "language_info": {
      "name": "python"
    }
  },
  "cells": [
    {
      "cell_type": "code",
      "execution_count": null,
      "metadata": {
        "colab": {
          "base_uri": "https://localhost:8080/"
        },
        "id": "cUjEW5Lrg--5",
        "outputId": "888a47ba-e5ce-4d04-e8bb-1f41a6416ede"
      },
      "outputs": [
        {
          "output_type": "stream",
          "name": "stdout",
          "text": [
            "Earth 62\n"
          ]
        }
      ],
      "source": [
        "a=\"Earth 62\"\n",
        "print(a)"
      ]
    },
    {
      "cell_type": "code",
      "source": [],
      "metadata": {
        "id": "HmAibGKZoYIP"
      },
      "execution_count": null,
      "outputs": []
    },
    {
      "cell_type": "markdown",
      "source": [
        "### 1. f-trin"
      ],
      "metadata": {
        "id": "EGmN_a9JoY5d"
      }
    }
  ]
}